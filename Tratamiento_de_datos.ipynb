{
 "cells": [
  {
   "cell_type": "code",
   "execution_count": 9,
   "id": "a7af507f-928f-4f7f-b432-5a5ac93ecfe1",
   "metadata": {},
   "outputs": [
    {
     "name": "stdout",
     "output_type": "stream",
     "text": [
      "Proceso completado\n"
     ]
    }
   ],
   "source": [
    "from PIL import Image\n",
    "import os\n",
    "\n",
    "# Directorio donde se encuentran las imágenes originales\n",
    "directorio_original = \"./data/train/benign\"\n",
    "\n",
    "# Directorio donde se guardarán las imágenes reducidas\n",
    "nueva_carpeta = \"./new_data/train/benign\"\n",
    "\n",
    "# Limpiar el contenido de la carpeta de destino si existe\n",
    "if os.path.exists(nueva_carpeta):\n",
    "    archivos_destino = os.listdir(nueva_carpeta)\n",
    "    for archivo in archivos_destino:\n",
    "        ruta_completa_destino = os.path.join(nueva_carpeta, archivo)\n",
    "        os.remove(ruta_completa_destino)\n",
    "\n",
    "# Obtener una lista de archivos en el directorio original\n",
    "archivos_originales = os.listdir(directorio_original)\n",
    "\n",
    "# Seleccionar la mitad de las imágenes\n",
    "mitad_de_archivos = archivos_originales[:len(archivos_originales)//2]\n",
    "\n",
    "# Recorremos las imágenes seleccionadas\n",
    "for archivo in mitad_de_archivos:\n",
    "    ruta_completa_original = os.path.join(directorio_original, archivo)\n",
    "    \n",
    "    # Abrir la imagen\n",
    "    imagen = Image.open(ruta_completa_original)\n",
    "    \n",
    "    # Reducir la calidad de la imagen y guardarla en la carpeta de destino\n",
    "    ruta_completa_destino = os.path.join(nueva_carpeta, archivo)\n",
    "    imagen.save(ruta_completa_destino, quality=10)  # Quality puede ser ajustado según tus necesidades\n",
    "\n",
    "print(\"Proceso completado\")\n"
   ]
  },
  {
   "cell_type": "code",
   "execution_count": 10,
   "id": "5e7570d9-c011-4413-bf1d-89623310bf84",
   "metadata": {},
   "outputs": [
    {
     "name": "stdout",
     "output_type": "stream",
     "text": [
      "Proceso completado\n"
     ]
    }
   ],
   "source": [
    "from PIL import Image\n",
    "import os\n",
    "\n",
    "# Directorio donde se encuentran las imágenes originales\n",
    "directorio_original = \"./data/train/malignant\"\n",
    "\n",
    "# Directorio donde se guardarán las imágenes reducidas\n",
    "nueva_carpeta = \"./new_data/train/malignant\"\n",
    "\n",
    "# Limpiar el contenido de la carpeta de destino si existe\n",
    "if os.path.exists(nueva_carpeta):\n",
    "    archivos_destino = os.listdir(nueva_carpeta)\n",
    "    for archivo in archivos_destino:\n",
    "        ruta_completa_destino = os.path.join(nueva_carpeta, archivo)\n",
    "        os.remove(ruta_completa_destino)\n",
    "\n",
    "# Obtener una lista de archivos en el directorio original\n",
    "archivos_originales = os.listdir(directorio_original)\n",
    "\n",
    "# Seleccionar la mitad de las imágenes\n",
    "mitad_de_archivos = archivos_originales[:len(archivos_originales)//2]\n",
    "\n",
    "# Recorremos las imágenes seleccionadas\n",
    "for archivo in mitad_de_archivos:\n",
    "    ruta_completa_original = os.path.join(directorio_original, archivo)\n",
    "    \n",
    "    # Abrir la imagen\n",
    "    imagen = Image.open(ruta_completa_original)\n",
    "    \n",
    "    # Reducir la calidad de la imagen y guardarla en la carpeta de destino\n",
    "    ruta_completa_destino = os.path.join(nueva_carpeta, archivo)\n",
    "    imagen.save(ruta_completa_destino, quality=10)  # Quality puede ser ajustado según tus necesidades\n",
    "\n",
    "print(\"Proceso completado\")\n"
   ]
  },
  {
   "cell_type": "code",
   "execution_count": 11,
   "id": "93d34aac-d087-4740-a652-b49ec91a2fc8",
   "metadata": {},
   "outputs": [
    {
     "name": "stdout",
     "output_type": "stream",
     "text": [
      "Proceso completado\n"
     ]
    }
   ],
   "source": [
    "from PIL import Image\n",
    "import os\n",
    "\n",
    "# Directorio donde se encuentran las imágenes originales\n",
    "directorio_original = \"./data/test/benign\"\n",
    "\n",
    "# Directorio donde se guardarán las imágenes reducidas\n",
    "nueva_carpeta = \"./new_data/test/benign\"\n",
    "\n",
    "# Limpiar el contenido de la carpeta de destino si existe\n",
    "if os.path.exists(nueva_carpeta):\n",
    "    archivos_destino = os.listdir(nueva_carpeta)\n",
    "    for archivo in archivos_destino:\n",
    "        ruta_completa_destino = os.path.join(nueva_carpeta, archivo)\n",
    "        os.remove(ruta_completa_destino)\n",
    "\n",
    "# Obtener una lista de archivos en el directorio original\n",
    "archivos_originales = os.listdir(directorio_original)\n",
    "\n",
    "# Seleccionar la mitad de las imágenes\n",
    "mitad_de_archivos = archivos_originales[:len(archivos_originales)//2]\n",
    "\n",
    "# Recorremos las imágenes seleccionadas\n",
    "for archivo in mitad_de_archivos:\n",
    "    ruta_completa_original = os.path.join(directorio_original, archivo)\n",
    "    \n",
    "    # Abrir la imagen\n",
    "    imagen = Image.open(ruta_completa_original)\n",
    "    \n",
    "    # Reducir la calidad de la imagen y guardarla en la carpeta de destino\n",
    "    ruta_completa_destino = os.path.join(nueva_carpeta, archivo)\n",
    "    imagen.save(ruta_completa_destino, quality=10)  # Quality puede ser ajustado según tus necesidades\n",
    "\n",
    "print(\"Proceso completado\")\n"
   ]
  },
  {
   "cell_type": "code",
   "execution_count": 12,
   "id": "4f41ae84-4b53-4b74-9fad-34a5dda16f86",
   "metadata": {},
   "outputs": [
    {
     "name": "stdout",
     "output_type": "stream",
     "text": [
      "Proceso completado\n"
     ]
    }
   ],
   "source": [
    "from PIL import Image\n",
    "import os\n",
    "\n",
    "# Directorio donde se encuentran las imágenes originales\n",
    "directorio_original = \"./data/test/malignant\"\n",
    "\n",
    "# Directorio donde se guardarán las imágenes reducidas\n",
    "nueva_carpeta = \"./new_data/test/malignant\"\n",
    "\n",
    "# Limpiar el contenido de la carpeta de destino si existe\n",
    "if os.path.exists(nueva_carpeta):\n",
    "    archivos_destino = os.listdir(nueva_carpeta)\n",
    "    for archivo in archivos_destino:\n",
    "        ruta_completa_destino = os.path.join(nueva_carpeta, archivo)\n",
    "        os.remove(ruta_completa_destino)\n",
    "\n",
    "# Obtener una lista de archivos en el directorio original\n",
    "archivos_originales = os.listdir(directorio_original)\n",
    "\n",
    "# Seleccionar la mitad de las imágenes\n",
    "mitad_de_archivos = archivos_originales[:len(archivos_originales)//2]\n",
    "\n",
    "# Recorremos las imágenes seleccionadas\n",
    "for archivo in mitad_de_archivos:\n",
    "    ruta_completa_original = os.path.join(directorio_original, archivo)\n",
    "    \n",
    "    # Abrir la imagen\n",
    "    imagen = Image.open(ruta_completa_original)\n",
    "    \n",
    "    # Reducir la calidad de la imagen y guardarla en la carpeta de destino\n",
    "    ruta_completa_destino = os.path.join(nueva_carpeta, archivo)\n",
    "    imagen.save(ruta_completa_destino, quality=10)  # Quality puede ser ajustado según tus necesidades\n",
    "\n",
    "print(\"Proceso completado\")\n"
   ]
  },
  {
   "cell_type": "code",
   "execution_count": null,
   "id": "33c1611d-e05c-4946-89d4-c3046ab0e87c",
   "metadata": {},
   "outputs": [],
   "source": []
  }
 ],
 "metadata": {
  "kernelspec": {
   "display_name": "entornoTFG",
   "language": "python",
   "name": "entornotfg"
  },
  "language_info": {
   "codemirror_mode": {
    "name": "ipython",
    "version": 3
   },
   "file_extension": ".py",
   "mimetype": "text/x-python",
   "name": "python",
   "nbconvert_exporter": "python",
   "pygments_lexer": "ipython3",
   "version": "3.8.18"
  }
 },
 "nbformat": 4,
 "nbformat_minor": 5
}
